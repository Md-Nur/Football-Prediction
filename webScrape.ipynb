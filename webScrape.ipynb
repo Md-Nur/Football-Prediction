{
 "cells": [
  {
   "cell_type": "code",
   "execution_count": 1,
   "source": [
    "import requests\r\n",
    "from bs4 import BeautifulSoup\r\n",
    "from datetime import datetime, timedelta\r\n",
    "import pandas as pd\r\n",
    "import numpy as np"
   ],
   "outputs": [],
   "metadata": {}
  },
  {
   "cell_type": "code",
   "execution_count": 2,
   "source": [
    "date = []\r\n",
    "today = datetime.now()\r\n",
    "for i in range(5000):\r\n",
    "    a =str(today - timedelta(days = i))\r\n",
    "    date.append(a[:10])"
   ],
   "outputs": [],
   "metadata": {}
  },
  {
   "cell_type": "code",
   "execution_count": 15,
   "source": [
    "date[4800]"
   ],
   "outputs": [
    {
     "output_type": "execute_result",
     "data": {
      "text/plain": [
       "'2008-05-18'"
      ]
     },
     "metadata": {},
     "execution_count": 15
    }
   ],
   "metadata": {}
  },
  {
   "cell_type": "code",
   "execution_count": 3,
   "source": [
    "url = 'https://www.besoccer.com/livescore/'+date[2]+'/'\r\n",
    "response = requests.get(url)\r\n",
    "soup = BeautifulSoup(response.content,'html.parser')\r\n",
    "response.status_code"
   ],
   "outputs": [
    {
     "output_type": "execute_result",
     "data": {
      "text/plain": [
       "200"
      ]
     },
     "metadata": {},
     "execution_count": 3
    }
   ],
   "metadata": {}
  },
  {
   "cell_type": "code",
   "execution_count": 4,
   "source": [
    "compType = []\r\n",
    "ownTeam = []\r\n",
    "oppTeam = []\r\n",
    "ownGoal = []\r\n",
    "oppGoal = []\r\n",
    "day = []\r\n",
    "month = []\r\n",
    "year = []"
   ],
   "outputs": [],
   "metadata": {}
  },
  {
   "cell_type": "code",
   "execution_count": 5,
   "source": [
    "def buildData(d):\r\n",
    "    url = 'https://www.besoccer.com/livescore/'+d+'/'\r\n",
    "    response = requests.get(url)\r\n",
    "    soup = BeautifulSoup(response.content,'html.parser')\r\n",
    "    panel = soup.find_all('div',class_='panel')\r\n",
    "    for i in range(1,len(panel)):\r\n",
    "        icompType = panel[i].find_all('span',class_='va-m')\r\n",
    "        team = panel[i].find_all('div',class_='name')\r\n",
    "        goal1 = panel[i].find_all('span',class_='r1')\r\n",
    "        goal2 = panel[i].find_all('span',class_='r2')\r\n",
    "        t= icompType[0].text.strip()\r\n",
    "        if (t == 'World Cup' or t == 'EURO' or t == 'Copa America'):\r\n",
    "            for j in range(0,len(team),2):\r\n",
    "                compType.append(t)\r\n",
    "                ownTeam.append(team[j+0].text.strip())\r\n",
    "                oppTeam.append(team[j+1].text.strip())\r\n",
    "                ownGoal.append(goal1[0].text.strip())\r\n",
    "                oppGoal.append(goal2[0].text.strip())\r\n",
    "                day.append(d[-2:])\r\n",
    "                month.append(d[-5:-3])\r\n",
    "                year.append(d[:4])\r\n",
    "            for k in range(0,len(team),2):\r\n",
    "                compType.append(t)\r\n",
    "                ownTeam.append(team[k+1].text.strip())\r\n",
    "                oppTeam.append(team[k+0].text.strip())\r\n",
    "                ownGoal.append(goal2[0].text.strip())\r\n",
    "                oppGoal.append(goal1[0].text.strip())\r\n",
    "                day.append(d[-2:])\r\n",
    "                month.append(d[-5:-3])\r\n",
    "                year.append(d[:4])\r\n"
   ],
   "outputs": [],
   "metadata": {}
  },
  {
   "cell_type": "code",
   "execution_count": 6,
   "source": [
    "for i in range(5000):\r\n",
    "    buildData(date[i])"
   ],
   "outputs": [],
   "metadata": {}
  },
  {
   "cell_type": "code",
   "execution_count": 7,
   "source": [
    "dfDict = {\r\n",
    "    \"Day\":day,\r\n",
    "    \"Month\":month,\r\n",
    "    \"Year\":year,\r\n",
    "    \"Type\":compType,\r\n",
    "    \"Own_Team\":ownTeam,\r\n",
    "    \"Opp_Team\":oppTeam,\r\n",
    "    \"Own_Goal\":ownGoal,\r\n",
    "    \"Opp_Goal\":oppGoal,\r\n",
    "}"
   ],
   "outputs": [],
   "metadata": {}
  },
  {
   "cell_type": "code",
   "execution_count": 8,
   "source": [
    "df = pd.DataFrame(dfDict)"
   ],
   "outputs": [],
   "metadata": {}
  },
  {
   "cell_type": "code",
   "execution_count": 9,
   "source": [
    "df"
   ],
   "outputs": [
    {
     "output_type": "execute_result",
     "data": {
      "text/plain": [
       "             Type     Own_Team     Opp_Team Own_Goal Opp_Goal Day Month  Year\n",
       "0    Copa America       Brazil         Peru        3        1  07    07  2019\n",
       "1    Copa America         Peru       Brazil        1        3  07    07  2019\n",
       "2    Copa America    Argentina        Chile        2        1  06    07  2019\n",
       "3    Copa America        Chile    Argentina        1        2  06    07  2019\n",
       "4    Copa America        Chile         Peru        0        3  04    07  2019\n",
       "..            ...          ...          ...      ...      ...  ..   ...   ...\n",
       "641          EURO       Turkey      Croatia        1        1  20    06  2008\n",
       "642          EURO        Italy      Romania        1        1  13    06  2008\n",
       "643          EURO  Netherlands       France        1        1  13    06  2008\n",
       "644          EURO      Romania        Italy        1        1  13    06  2008\n",
       "645          EURO       France  Netherlands        1        1  13    06  2008\n",
       "\n",
       "[646 rows x 8 columns]"
      ],
      "text/html": [
       "<div>\n",
       "<style scoped>\n",
       "    .dataframe tbody tr th:only-of-type {\n",
       "        vertical-align: middle;\n",
       "    }\n",
       "\n",
       "    .dataframe tbody tr th {\n",
       "        vertical-align: top;\n",
       "    }\n",
       "\n",
       "    .dataframe thead th {\n",
       "        text-align: right;\n",
       "    }\n",
       "</style>\n",
       "<table border=\"1\" class=\"dataframe\">\n",
       "  <thead>\n",
       "    <tr style=\"text-align: right;\">\n",
       "      <th></th>\n",
       "      <th>Type</th>\n",
       "      <th>Own_Team</th>\n",
       "      <th>Opp_Team</th>\n",
       "      <th>Own_Goal</th>\n",
       "      <th>Opp_Goal</th>\n",
       "      <th>Day</th>\n",
       "      <th>Month</th>\n",
       "      <th>Year</th>\n",
       "    </tr>\n",
       "  </thead>\n",
       "  <tbody>\n",
       "    <tr>\n",
       "      <th>0</th>\n",
       "      <td>Copa America</td>\n",
       "      <td>Brazil</td>\n",
       "      <td>Peru</td>\n",
       "      <td>3</td>\n",
       "      <td>1</td>\n",
       "      <td>07</td>\n",
       "      <td>07</td>\n",
       "      <td>2019</td>\n",
       "    </tr>\n",
       "    <tr>\n",
       "      <th>1</th>\n",
       "      <td>Copa America</td>\n",
       "      <td>Peru</td>\n",
       "      <td>Brazil</td>\n",
       "      <td>1</td>\n",
       "      <td>3</td>\n",
       "      <td>07</td>\n",
       "      <td>07</td>\n",
       "      <td>2019</td>\n",
       "    </tr>\n",
       "    <tr>\n",
       "      <th>2</th>\n",
       "      <td>Copa America</td>\n",
       "      <td>Argentina</td>\n",
       "      <td>Chile</td>\n",
       "      <td>2</td>\n",
       "      <td>1</td>\n",
       "      <td>06</td>\n",
       "      <td>07</td>\n",
       "      <td>2019</td>\n",
       "    </tr>\n",
       "    <tr>\n",
       "      <th>3</th>\n",
       "      <td>Copa America</td>\n",
       "      <td>Chile</td>\n",
       "      <td>Argentina</td>\n",
       "      <td>1</td>\n",
       "      <td>2</td>\n",
       "      <td>06</td>\n",
       "      <td>07</td>\n",
       "      <td>2019</td>\n",
       "    </tr>\n",
       "    <tr>\n",
       "      <th>4</th>\n",
       "      <td>Copa America</td>\n",
       "      <td>Chile</td>\n",
       "      <td>Peru</td>\n",
       "      <td>0</td>\n",
       "      <td>3</td>\n",
       "      <td>04</td>\n",
       "      <td>07</td>\n",
       "      <td>2019</td>\n",
       "    </tr>\n",
       "    <tr>\n",
       "      <th>...</th>\n",
       "      <td>...</td>\n",
       "      <td>...</td>\n",
       "      <td>...</td>\n",
       "      <td>...</td>\n",
       "      <td>...</td>\n",
       "      <td>...</td>\n",
       "      <td>...</td>\n",
       "      <td>...</td>\n",
       "    </tr>\n",
       "    <tr>\n",
       "      <th>641</th>\n",
       "      <td>EURO</td>\n",
       "      <td>Turkey</td>\n",
       "      <td>Croatia</td>\n",
       "      <td>1</td>\n",
       "      <td>1</td>\n",
       "      <td>20</td>\n",
       "      <td>06</td>\n",
       "      <td>2008</td>\n",
       "    </tr>\n",
       "    <tr>\n",
       "      <th>642</th>\n",
       "      <td>EURO</td>\n",
       "      <td>Italy</td>\n",
       "      <td>Romania</td>\n",
       "      <td>1</td>\n",
       "      <td>1</td>\n",
       "      <td>13</td>\n",
       "      <td>06</td>\n",
       "      <td>2008</td>\n",
       "    </tr>\n",
       "    <tr>\n",
       "      <th>643</th>\n",
       "      <td>EURO</td>\n",
       "      <td>Netherlands</td>\n",
       "      <td>France</td>\n",
       "      <td>1</td>\n",
       "      <td>1</td>\n",
       "      <td>13</td>\n",
       "      <td>06</td>\n",
       "      <td>2008</td>\n",
       "    </tr>\n",
       "    <tr>\n",
       "      <th>644</th>\n",
       "      <td>EURO</td>\n",
       "      <td>Romania</td>\n",
       "      <td>Italy</td>\n",
       "      <td>1</td>\n",
       "      <td>1</td>\n",
       "      <td>13</td>\n",
       "      <td>06</td>\n",
       "      <td>2008</td>\n",
       "    </tr>\n",
       "    <tr>\n",
       "      <th>645</th>\n",
       "      <td>EURO</td>\n",
       "      <td>France</td>\n",
       "      <td>Netherlands</td>\n",
       "      <td>1</td>\n",
       "      <td>1</td>\n",
       "      <td>13</td>\n",
       "      <td>06</td>\n",
       "      <td>2008</td>\n",
       "    </tr>\n",
       "  </tbody>\n",
       "</table>\n",
       "<p>646 rows × 8 columns</p>\n",
       "</div>"
      ]
     },
     "metadata": {},
     "execution_count": 9
    }
   ],
   "metadata": {}
  },
  {
   "cell_type": "code",
   "execution_count": 10,
   "source": [
    "len(df)"
   ],
   "outputs": [
    {
     "output_type": "execute_result",
     "data": {
      "text/plain": [
       "646"
      ]
     },
     "metadata": {},
     "execution_count": 10
    }
   ],
   "metadata": {}
  },
  {
   "cell_type": "code",
   "execution_count": 20,
   "source": [
    "df.to_csv('data/football.csv')"
   ],
   "outputs": [],
   "metadata": {}
  },
  {
   "cell_type": "code",
   "execution_count": null,
   "source": [],
   "outputs": [],
   "metadata": {}
  }
 ],
 "metadata": {
  "interpreter": {
   "hash": "b5843a13e7131a14c3c0e364f0390d6592a995e3082c3f83420ac4385eeb2370"
  },
  "kernelspec": {
   "display_name": "Python 3.9.5 64-bit",
   "name": "python3"
  },
  "language_info": {
   "codemirror_mode": {
    "name": "ipython",
    "version": 3
   },
   "file_extension": ".py",
   "mimetype": "text/x-python",
   "name": "python",
   "nbconvert_exporter": "python",
   "pygments_lexer": "ipython3",
   "version": "3.9.5"
  },
  "orig_nbformat": 4
 },
 "nbformat": 4,
 "nbformat_minor": 2
}